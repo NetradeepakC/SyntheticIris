{
  "cells": [
    {
      "cell_type": "code",
      "execution_count": null,
      "metadata": {
        "colab": {
          "base_uri": "https://localhost:8080/"
        },
        "id": "J6Xk_ESdkKkM",
        "outputId": "e1567e03-7e8a-40ec-eee0-a6230d73d0df"
      },
      "outputs": [
        {
          "output_type": "stream",
          "name": "stdout",
          "text": [
            "Fri Jul  7 16:45:51 2023       \n",
            "+-----------------------------------------------------------------------------+\n",
            "| NVIDIA-SMI 525.85.12    Driver Version: 525.85.12    CUDA Version: 12.0     |\n",
            "|-------------------------------+----------------------+----------------------+\n",
            "| GPU  Name        Persistence-M| Bus-Id        Disp.A | Volatile Uncorr. ECC |\n",
            "| Fan  Temp  Perf  Pwr:Usage/Cap|         Memory-Usage | GPU-Util  Compute M. |\n",
            "|                               |                      |               MIG M. |\n",
            "|===============================+======================+======================|\n",
            "|   0  Tesla T4            Off  | 00000000:00:04.0 Off |                    0 |\n",
            "| N/A   35C    P8     9W /  70W |      0MiB / 15360MiB |      0%      Default |\n",
            "|                               |                      |                  N/A |\n",
            "+-------------------------------+----------------------+----------------------+\n",
            "                                                                               \n",
            "+-----------------------------------------------------------------------------+\n",
            "| Processes:                                                                  |\n",
            "|  GPU   GI   CI        PID   Type   Process name                  GPU Memory |\n",
            "|        ID   ID                                                   Usage      |\n",
            "|=============================================================================|\n",
            "|  No running processes found                                                 |\n",
            "+-----------------------------------------------------------------------------+\n"
          ]
        }
      ],
      "source": [
        "!nvidia-smi"
      ]
    },
    {
      "cell_type": "code",
      "execution_count": null,
      "metadata": {
        "colab": {
          "base_uri": "https://localhost:8080/"
        },
        "id": "8j-SSMDckKkO",
        "outputId": "c7330e2b-08e1-47e5-dca9-1c88616843b1"
      },
      "outputs": [
        {
          "output_type": "stream",
          "name": "stdout",
          "text": [
            "Python 3.10.12\n"
          ]
        }
      ],
      "source": [
        "!python --version"
      ]
    },
    {
      "cell_type": "code",
      "execution_count": null,
      "metadata": {
        "colab": {
          "base_uri": "https://localhost:8080/"
        },
        "id": "BiZj0QcwkKkO",
        "outputId": "086a05f3-662c-4328-c920-dd0c6feca07c"
      },
      "outputs": [
        {
          "output_type": "stream",
          "name": "stdout",
          "text": [
            "Reading package lists... Done\n",
            "Building dependency tree       \n",
            "Reading state information... Done\n",
            "mpich is already the newest version (3.3.2-2build1).\n",
            "0 upgraded, 0 newly installed, 0 to remove and 15 not upgraded.\n"
          ]
        }
      ],
      "source": [
        "!echo 'y' | sudo apt install mpich"
      ]
    },
    {
      "cell_type": "code",
      "execution_count": null,
      "metadata": {
        "colab": {
          "base_uri": "https://localhost:8080/"
        },
        "id": "kLeR-N-qkKkO",
        "outputId": "141cea71-5a60-4c82-beab-0d6aee661edf"
      },
      "outputs": [
        {
          "output_type": "stream",
          "name": "stdout",
          "text": [
            "/usr/bin/mpiexec\n"
          ]
        }
      ],
      "source": [
        "!which mpiexec"
      ]
    },
    {
      "cell_type": "code",
      "execution_count": null,
      "metadata": {
        "colab": {
          "base_uri": "https://localhost:8080/"
        },
        "id": "-5kmhGJNkKkP",
        "outputId": "99767659-1de9-40c9-a00f-84d7b6d5f084"
      },
      "outputs": [
        {
          "output_type": "stream",
          "name": "stdout",
          "text": [
            "Requirement already satisfied: blobfile==1.3.4 in /usr/local/lib/python3.10/dist-packages (1.3.4)\n",
            "Requirement already satisfied: pycryptodomex~=3.8 in /usr/local/lib/python3.10/dist-packages (from blobfile==1.3.4) (3.18.0)\n",
            "Requirement already satisfied: urllib3~=1.25 in /usr/local/lib/python3.10/dist-packages (from blobfile==1.3.4) (1.26.16)\n",
            "Requirement already satisfied: lxml~=4.9 in /usr/local/lib/python3.10/dist-packages (from blobfile==1.3.4) (4.9.2)\n",
            "Requirement already satisfied: filelock~=3.0 in /usr/local/lib/python3.10/dist-packages (from blobfile==1.3.4) (3.12.2)\n",
            "Looking in indexes: https://download.pytorch.org/whl/cu118\n",
            "Requirement already satisfied: torch in /usr/local/lib/python3.10/dist-packages (2.0.1+cu118)\n",
            "Requirement already satisfied: torchvision in /usr/local/lib/python3.10/dist-packages (0.15.2+cu118)\n",
            "Requirement already satisfied: torchaudio in /usr/local/lib/python3.10/dist-packages (2.0.2+cu118)\n",
            "Requirement already satisfied: filelock in /usr/local/lib/python3.10/dist-packages (from torch) (3.12.2)\n",
            "Requirement already satisfied: typing-extensions in /usr/local/lib/python3.10/dist-packages (from torch) (4.6.3)\n",
            "Requirement already satisfied: sympy in /usr/local/lib/python3.10/dist-packages (from torch) (1.11.1)\n",
            "Requirement already satisfied: networkx in /usr/local/lib/python3.10/dist-packages (from torch) (3.1)\n",
            "Requirement already satisfied: jinja2 in /usr/local/lib/python3.10/dist-packages (from torch) (3.1.2)\n",
            "Requirement already satisfied: triton==2.0.0 in /usr/local/lib/python3.10/dist-packages (from torch) (2.0.0)\n",
            "Requirement already satisfied: cmake in /usr/local/lib/python3.10/dist-packages (from triton==2.0.0->torch) (3.25.2)\n",
            "Requirement already satisfied: lit in /usr/local/lib/python3.10/dist-packages (from triton==2.0.0->torch) (16.0.6)\n",
            "Requirement already satisfied: numpy in /usr/local/lib/python3.10/dist-packages (from torchvision) (1.22.4)\n",
            "Requirement already satisfied: requests in /usr/local/lib/python3.10/dist-packages (from torchvision) (2.27.1)\n",
            "Requirement already satisfied: pillow!=8.3.*,>=5.3.0 in /usr/local/lib/python3.10/dist-packages (from torchvision) (8.4.0)\n",
            "Requirement already satisfied: MarkupSafe>=2.0 in /usr/local/lib/python3.10/dist-packages (from jinja2->torch) (2.1.3)\n",
            "Requirement already satisfied: urllib3<1.27,>=1.21.1 in /usr/local/lib/python3.10/dist-packages (from requests->torchvision) (1.26.16)\n",
            "Requirement already satisfied: certifi>=2017.4.17 in /usr/local/lib/python3.10/dist-packages (from requests->torchvision) (2023.5.7)\n",
            "Requirement already satisfied: charset-normalizer~=2.0.0 in /usr/local/lib/python3.10/dist-packages (from requests->torchvision) (2.0.12)\n",
            "Requirement already satisfied: idna<4,>=2.5 in /usr/local/lib/python3.10/dist-packages (from requests->torchvision) (3.4)\n",
            "Requirement already satisfied: mpmath>=0.19 in /usr/local/lib/python3.10/dist-packages (from sympy->torch) (1.3.0)\n",
            "Requirement already satisfied: tqdm in /usr/local/lib/python3.10/dist-packages (4.65.0)\n",
            "Requirement already satisfied: mpi4py in /usr/local/lib/python3.10/dist-packages (3.1.4)\n"
          ]
        }
      ],
      "source": [
        "!pip install blobfile==1.3.4\n",
        "!pip3 install torch torchvision torchaudio --index-url https://download.pytorch.org/whl/cu118\n",
        "!pip install tqdm\n",
        "!pip install mpi4py"
      ]
    },
    {
      "cell_type": "code",
      "execution_count": null,
      "metadata": {
        "colab": {
          "base_uri": "https://localhost:8080/"
        },
        "id": "DhU-pBXv03Cz",
        "outputId": "80e0932c-d423-4c9f-9da3-ec7ef1a463c1"
      },
      "outputs": [
        {
          "output_type": "stream",
          "name": "stdout",
          "text": [
            "Mounted at /content/gdrive\n"
          ]
        }
      ],
      "source": [
        "from google.colab import drive\n",
        "drive.mount(\"/content/gdrive\", force_remount=True)"
      ]
    },
    {
      "cell_type": "code",
      "execution_count": null,
      "metadata": {
        "colab": {
          "base_uri": "https://localhost:8080/"
        },
        "id": "ACy43I7q1NEc",
        "outputId": "050efaa9-0529-480b-8f06-1551ee00902c"
      },
      "outputs": [
        {
          "output_type": "stream",
          "name": "stdout",
          "text": [
            "Obtaining file:///content/gdrive/MyDrive/guided-diffusion\n",
            "  Preparing metadata (setup.py) ... \u001b[?25l\u001b[?25hdone\n",
            "Requirement already satisfied: blobfile>=1.0.5 in /usr/local/lib/python3.10/dist-packages (from guided-diffusion==0.0.0) (1.3.4)\n",
            "Requirement already satisfied: torch in /usr/local/lib/python3.10/dist-packages (from guided-diffusion==0.0.0) (2.0.1+cu118)\n",
            "Requirement already satisfied: tqdm in /usr/local/lib/python3.10/dist-packages (from guided-diffusion==0.0.0) (4.65.0)\n",
            "Requirement already satisfied: pycryptodomex~=3.8 in /usr/local/lib/python3.10/dist-packages (from blobfile>=1.0.5->guided-diffusion==0.0.0) (3.18.0)\n",
            "Requirement already satisfied: urllib3~=1.25 in /usr/local/lib/python3.10/dist-packages (from blobfile>=1.0.5->guided-diffusion==0.0.0) (1.26.16)\n",
            "Requirement already satisfied: lxml~=4.9 in /usr/local/lib/python3.10/dist-packages (from blobfile>=1.0.5->guided-diffusion==0.0.0) (4.9.2)\n",
            "Requirement already satisfied: filelock~=3.0 in /usr/local/lib/python3.10/dist-packages (from blobfile>=1.0.5->guided-diffusion==0.0.0) (3.12.2)\n",
            "Requirement already satisfied: typing-extensions in /usr/local/lib/python3.10/dist-packages (from torch->guided-diffusion==0.0.0) (4.6.3)\n",
            "Requirement already satisfied: sympy in /usr/local/lib/python3.10/dist-packages (from torch->guided-diffusion==0.0.0) (1.11.1)\n",
            "Requirement already satisfied: networkx in /usr/local/lib/python3.10/dist-packages (from torch->guided-diffusion==0.0.0) (3.1)\n",
            "Requirement already satisfied: jinja2 in /usr/local/lib/python3.10/dist-packages (from torch->guided-diffusion==0.0.0) (3.1.2)\n",
            "Requirement already satisfied: triton==2.0.0 in /usr/local/lib/python3.10/dist-packages (from torch->guided-diffusion==0.0.0) (2.0.0)\n",
            "Requirement already satisfied: cmake in /usr/local/lib/python3.10/dist-packages (from triton==2.0.0->torch->guided-diffusion==0.0.0) (3.25.2)\n",
            "Requirement already satisfied: lit in /usr/local/lib/python3.10/dist-packages (from triton==2.0.0->torch->guided-diffusion==0.0.0) (16.0.6)\n",
            "Requirement already satisfied: MarkupSafe>=2.0 in /usr/local/lib/python3.10/dist-packages (from jinja2->torch->guided-diffusion==0.0.0) (2.1.3)\n",
            "Requirement already satisfied: mpmath>=0.19 in /usr/local/lib/python3.10/dist-packages (from sympy->torch->guided-diffusion==0.0.0) (1.3.0)\n",
            "Installing collected packages: guided-diffusion\n",
            "  Attempting uninstall: guided-diffusion\n",
            "    Found existing installation: guided-diffusion 0.0.0\n",
            "    Uninstalling guided-diffusion-0.0.0:\n",
            "      Successfully uninstalled guided-diffusion-0.0.0\n",
            "  Running setup.py develop for guided-diffusion\n",
            "Successfully installed guided-diffusion-0.0.0\n"
          ]
        }
      ],
      "source": [
        "!pip install -e /content/gdrive/MyDrive/guided-diffusion"
      ]
    },
    {
      "cell_type": "code",
      "execution_count": null,
      "metadata": {
        "colab": {
          "base_uri": "https://localhost:8080/"
        },
        "id": "LU07cfLgT3P6",
        "outputId": "4b268f07-071d-4aad-f8bc-406bc2d53fa8"
      },
      "outputs": [
        {
          "output_type": "stream",
          "name": "stdout",
          "text": [
            "env: OPENAI_LOGDIR=/content/gdrive/MyDrive/guided-diffusion/datasets/IITD_LQ_128/logs\n"
          ]
        }
      ],
      "source": [
        "%env OPENAI_LOGDIR=/content/gdrive/MyDrive/guided-diffusion/datasets/IITD_LQ_128/logs"
      ]
    },
    {
      "cell_type": "code",
      "execution_count": null,
      "metadata": {
        "id": "GVZ-AbaWk54L"
      },
      "outputs": [],
      "source": [
        "import guided_diffusion"
      ]
    },
    {
      "cell_type": "code",
      "execution_count": null,
      "metadata": {
        "colab": {
          "base_uri": "https://localhost:8080/"
        },
        "id": "z4rt7Q-2VEUA",
        "outputId": "a6db5881-a223-4c76-dfb2-4bd361b37ff8"
      },
      "outputs": [
        {
          "output_type": "stream",
          "name": "stdout",
          "text": [
            "/content/gdrive/MyDrive/guided-diffusion/datasets/IITD_LQ_128/logs\n"
          ]
        }
      ],
      "source": [
        "!echo $OPENAI_LOGDIR"
      ]
    },
    {
      "cell_type": "code",
      "execution_count": null,
      "metadata": {
        "id": "wggg6KO1x4vP"
      },
      "outputs": [],
      "source": [
        "from google.colab import drive\n",
        "drive.mount(\"/content/gdrive\", force_remount=True)"
      ]
    },
    {
      "cell_type": "code",
      "execution_count": null,
      "metadata": {
        "id": "KMysEA6tkKkP"
      },
      "outputs": [],
      "source": [
        "! python /content/gdrive/MyDrive/guided-diffusion/scripts/image_train.py --data_dir /content/gdrive/MyDrive/guided-diffusion/datasets/IITD_LQ_128/Data --image_size 128 --num_channels 192 --num_res_blocks 4 --diffusion_steps 4000 --noise_schedule linear --lr 1e-4  --batch_size 120 --microbatch 3 --lr_anneal_steps 301 --save_interval 300"
      ]
    },
    {
      "cell_type": "code",
      "execution_count": null,
      "metadata": {
        "id": "LKKSSXD9-2l9"
      },
      "outputs": [],
      "source": [
        "from google.colab import drive\n",
        "drive.mount(\"/content/gdrive\", force_remount=True)"
      ]
    },
    {
      "cell_type": "code",
      "execution_count": null,
      "metadata": {
        "id": "pb-B_M7k6LJd"
      },
      "outputs": [],
      "source": [
        "! python /content/gdrive/MyDrive/guided-diffusion/scripts/image_train.py --data_dir /content/gdrive/MyDrive/guided-diffusion/datasets/IITD_LQ_128/Data --image_size 128 --num_channels 192 --num_res_blocks 4 --diffusion_steps 4000 --noise_schedule linear --lr 8e-5  --batch_size 120 --microbatch 3 --lr_anneal_steps 501 --save_interval 200 --resume_checkpoint \"/content/gdrive/MyDrive/guided-diffusion/datasets/IITD_LQ_128/logs/model000300.pt\""
      ]
    },
    {
      "cell_type": "code",
      "execution_count": null,
      "metadata": {
        "id": "C_yLb520S1-K"
      },
      "outputs": [],
      "source": [
        "from google.colab import drive\n",
        "drive.mount(\"/content/gdrive\", force_remount=True)"
      ]
    },
    {
      "cell_type": "code",
      "execution_count": null,
      "metadata": {
        "id": "ooKqc7G3S1w1"
      },
      "outputs": [],
      "source": [
        "! python /content/gdrive/MyDrive/guided-diffusion/scripts/image_train.py --data_dir /content/gdrive/MyDrive/guided-diffusion/datasets/IITD_LQ_128/Data --image_size 128 --num_channels 192 --num_res_blocks 4 --diffusion_steps 4000 --noise_schedule linear --lr 6.4e-5  --batch_size 120 --microbatch 3 --lr_anneal_steps 701 --save_interval 200 --resume_checkpoint \"/content/gdrive/MyDrive/guided-diffusion/datasets/IITD_LQ_128/logs/model000500.pt\""
      ]
    },
    {
      "cell_type": "code",
      "execution_count": null,
      "metadata": {
        "id": "VGBU5eGNX1YM"
      },
      "outputs": [],
      "source": [
        "from google.colab import drive\n",
        "drive.mount(\"/content/gdrive\", force_remount=True)"
      ]
    },
    {
      "cell_type": "code",
      "execution_count": null,
      "metadata": {
        "id": "5bHXlcgVX1YM"
      },
      "outputs": [],
      "source": [
        "! python /content/gdrive/MyDrive/guided-diffusion/scripts/image_train.py --data_dir /content/gdrive/MyDrive/guided-diffusion/datasets/IITD_LQ_128/Data --image_size 128 --num_channels 192 --num_res_blocks 4 --diffusion_steps 4000 --noise_schedule linear --lr 5.12e-5  --batch_size 120 --microbatch 3 --lr_anneal_steps 901 --save_interval 200 --resume_checkpoint \"/content/gdrive/MyDrive/guided-diffusion/datasets/IITD_LQ_128/logs/model000700.pt\""
      ]
    },
    {
      "cell_type": "code",
      "execution_count": null,
      "metadata": {
        "id": "11_nbaf4w9EU"
      },
      "outputs": [],
      "source": [
        "%env OPENAI_LOGDIR=/content/gdrive/MyDrive/guided-diffusion/datasets/IITD_LQ_128/sample_logs"
      ]
    },
    {
      "cell_type": "code",
      "execution_count": null,
      "metadata": {
        "id": "ZhH0Z6Ze29sP"
      },
      "outputs": [],
      "source": [
        "from google.colab import drive\n",
        "drive.mount(\"/content/gdrive\", force_remount=True)"
      ]
    },
    {
      "cell_type": "code",
      "execution_count": null,
      "metadata": {
        "id": "HXgxFb7rbWAD"
      },
      "outputs": [],
      "source": [
        "!python /content/gdrive/MyDrive/guided-diffusion/scripts/image_sample.py --model_path \"/content/gdrive/MyDrive/guided-diffusion/datasets/IITD_LQ_128/logs/ema_0.9999_000900.pt\" --image_size 128 --num_channels 192 --num_res_blocks 4 --diffusion_steps 2000 --noise_schedule linear --batch_size 20 --num_samples 100 --timestep_respacing 250 --noise_folder \"/content/gdrive/MyDrive/guided-diffusion/datasets/IITD_LQ_128/VAE_images/\""
      ]
    },
    {
      "cell_type": "code",
      "execution_count": null,
      "metadata": {
        "id": "vkVU1oyW5vC-"
      },
      "outputs": [],
      "source": [
        "import numpy as np\n",
        "import cv2"
      ]
    },
    {
      "cell_type": "code",
      "execution_count": null,
      "metadata": {
        "id": "QDd1mDBg5WPy"
      },
      "outputs": [],
      "source": [
        "sample_arr=np.load('/content/gdrive/MyDrive/guided-diffusion/datasets/IITD_LQ_128/sample_logs/samples_1x128x128x3.npz')\n",
        "sample_arr=sample_arr[\"arr_0\"]\n",
        "c=0\n",
        "for i in sample_arr:\n",
        "  cv2.imwrite(\"/content/gdrive/MyDrive/guided-diffusion/datasets/IITD_LQ_128/sample_logs/sample\"+str(c)+\".png\", i)\n",
        "  c+=1"
      ]
    }
  ],
  "metadata": {
    "accelerator": "GPU",
    "colab": {
      "provenance": []
    },
    "kernelspec": {
      "display_name": "Python 3",
      "name": "python3"
    },
    "language_info": {
      "codemirror_mode": {
        "name": "ipython",
        "version": 3
      },
      "file_extension": ".py",
      "mimetype": "text/x-python",
      "name": "python",
      "nbconvert_exporter": "python",
      "pygments_lexer": "ipython3",
      "version": "3.10.10"
    }
  },
  "nbformat": 4,
  "nbformat_minor": 0
}